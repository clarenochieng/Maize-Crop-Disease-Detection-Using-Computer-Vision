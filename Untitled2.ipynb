{
  "nbformat": 4,
  "nbformat_minor": 0,
  "metadata": {
    "colab": {
      "provenance": []
    },
    "kernelspec": {
      "name": "python3",
      "display_name": "Python 3"
    },
    "language_info": {
      "name": "python"
    }
  },
  "cells": [
    {
      "cell_type": "code",
      "execution_count": 6,
      "metadata": {
        "id": "jO-20bwDwDAk"
      },
      "outputs": [],
      "source": [
        "import torch\n",
        "import torch.nn as nn\n",
        "from torch.nn.functional import relu\n"
      ]
    },
    {
      "cell_type": "code",
      "source": [
        "#This is the convolutional neural network class\n",
        "#Inherits from nn.Module\n",
        "class ConvolutionalNeuralNetwork(nn.Module):\n",
        "  def __init__(self, input_dim, hidden_dim, output_dim):\n",
        "    super().__init__()\n",
        "    self.conv1 = nn.Conv2d(in_channels = 1, out_channels=16, kernel_size= (3,3), stride=(1,1), padding=(1,1))\n",
        "    self.pooling = nn.MaxPool2d(kernel_size=(2,2), stride=(2,2))\n",
        "    self.conv2 = nn.Conv2d(in_channels=16, out_channels = 32, kernel_size=(3,3), stride = (1,1), padding=(1,1))\n",
        "    self.fc = nn.Linear(32*(input_dim[0]/4)*(input_dim[0]/4), output_dim)\n",
        "\n",
        "  def forward(self, x):\n",
        "    x = relu(self.conv1(x))\n",
        "    x = self.pooling(x)\n",
        "    x = relu(self.conv2(x))\n",
        "    x = self.pooling(x)\n",
        "    x = x.reshape(x.shape[0], -1)\n",
        "    x = self.fc(x)\n",
        "\n",
        "    return x\n"
      ],
      "metadata": {
        "id": "VBIk7p4A1dH-"
      },
      "execution_count": 8,
      "outputs": []
    },
    {
      "cell_type": "code",
      "source": [],
      "metadata": {
        "id": "I8ZVyoFQ5xOK"
      },
      "execution_count": null,
      "outputs": []
    }
  ]
}